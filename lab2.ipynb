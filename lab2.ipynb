{
 "cells": [
  {
   "cell_type": "markdown",
   "id": "daea9c8b-ed24-4526-b043-cc52ad9e5206",
   "metadata": {},
   "source": [
    "# Parte 1"
   ]
  },
  {
   "cell_type": "markdown",
   "id": "f3daf779-855d-4b99-935e-4040cc6be2a4",
   "metadata": {
    "tags": []
   },
   "source": [
    "1.Haga un programa en Python que reciba de parametro un numero de segundos y que despliegue en pantalla, las horas, minutos y segundos que representan. Por ejemplo:\n",
    "Si el numero de segundos recibidos fuera: 2743 entonces su programa deberia desplegar:\n",
    "Horas: 0, Minutos: 45 , Segundos: 43\n",
    "Si el numero de segundos recibidos fuera 5871: Horas: 1, Minutos: 37 , Segundos: 51"
   ]
  },
  {
   "cell_type": "code",
   "execution_count": 22,
   "id": "81300638-6855-49a2-b733-4e8202cf3a72",
   "metadata": {
    "tags": []
   },
   "outputs": [
    {
     "name": "stdin",
     "output_type": "stream",
     "text": [
      "Ingrese una cantidad en segundos:  5871\n"
     ]
    },
    {
     "name": "stdout",
     "output_type": "stream",
     "text": [
      "Horas: 1, Minutos: 37, Segundos: 51\n"
     ]
    }
   ],
   "source": [
    "def calcularTiempo(segundos):\n",
    "    horas = segundos // 3600\n",
    "    segundos_res = segundos % 3600\n",
    "    minutos = segundos_res // 60\n",
    "    segundos = segundos_res % 60\n",
    "    return horas, minutos, segundos\n",
    "\n",
    "segundos_in = input(\"Ingrese una cantidad en segundos: \")\n",
    "segundosInt = int(segundos_in)\n",
    "horas, minutos, segundos = calcularTiempo(segundosInt)\n",
    "print(f\"Horas: {horas}, Minutos: {minutos}, Segundos: {segundos}\")\n"
   ]
  },
  {
   "cell_type": "markdown",
   "id": "2d82417b-26b8-4d39-a7c1-b83433741a49",
   "metadata": {},
   "source": [
    "2.  . Haga una funcion en Python que dado un numero entre 1 y 20. Y un caracter cualquiera despliegue cuatro patrones triangulares"
   ]
  },
  {
   "cell_type": "code",
   "execution_count": 19,
   "id": "7110a165-fbbf-434b-9a3d-206abb6da36a",
   "metadata": {
    "tags": []
   },
   "outputs": [
    {
     "name": "stdin",
     "output_type": "stream",
     "text": [
      "Ingrese un número entre 1 y 20:  5\n",
      "Ingrese un caracter:  @\n"
     ]
    },
    {
     "name": "stdout",
     "output_type": "stream",
     "text": [
      "@\n",
      "@@\n",
      "@@@\n",
      "@@@@\n",
      "\n",
      "@@@@@\n",
      "@@@@\n",
      "@@@\n",
      "@@\n",
      "@\n",
      "\n",
      "    @\n",
      "   @@\n",
      "  @@@\n",
      " @@@@\n",
      "\n",
      "@@@@@\n",
      " @@@@\n",
      "  @@@\n",
      "   @@\n",
      "    @\n"
     ]
    }
   ],
   "source": [
    "def patrones(numero, caracter):\n",
    "    for i in range(1, numero):\n",
    "        print(caracter * i)\n",
    "\n",
    "    print()\n",
    "\n",
    "    for i in range(numero, 0, -1):\n",
    "        print(caracter * i)\n",
    "\n",
    "    print()\n",
    "\n",
    "    for i in range(1, numero):\n",
    "        print(\" \" * (5 - i) + caracter * i)\n",
    "\n",
    "    print()\n",
    "\n",
    "    for i in range(numero, 0, -1):\n",
    "        print(\" \" * (5 - i) + caracter * i)\n",
    "\n",
    "numero = int(input(\"Ingrese un número entre 1 y 20: \"))\n",
    "caracter = input(\"Ingrese un caracter: \")\n",
    "\n",
    "if numero < 1 or numero > 20:\n",
    "    print(\"El número debe estar entre 1 y 20.\")\n",
    "else:\n",
    "    patrones(numero, caracter)\n"
   ]
  },
  {
   "cell_type": "markdown",
   "id": "fa7da90d-a073-4c58-a51d-285fe741ebd3",
   "metadata": {
    "tags": []
   },
   "source": [
    "3. Haga un programa en Python que la fecha de nacimiento de una persona (puede ingresar por separado cada valor, es decir pedir primero dıa, luego mes y luego año), despliegue la edad de la persona en años, meses y dıas. Su resultado puede ser aproximado\n"
   ]
  },
  {
   "cell_type": "code",
   "execution_count": 21,
   "id": "ab37b06f-4013-4234-ab47-693324d62422",
   "metadata": {
    "tags": []
   },
   "outputs": [],
   "source": [
    "from datetime import datetime"
   ]
  },
  {
   "cell_type": "code",
   "execution_count": 32,
   "id": "d8db9d4d-719f-4004-a637-1a58dd614f3e",
   "metadata": {
    "tags": []
   },
   "outputs": [
    {
     "name": "stdin",
     "output_type": "stream",
     "text": [
      "Ingrese el día de nacimiento:   23\n",
      "Ingrese el mes de nacimiento:  7\n",
      "Ingrese el año de nacimiento:  1995\n"
     ]
    },
    {
     "name": "stdout",
     "output_type": "stream",
     "text": [
      "Edad: 28 años, 7 meses, 21 días.\n"
     ]
    }
   ],
   "source": [
    "def calculaEdad(dayNac, monthNac, yearNac):\n",
    "    fechaActual = datetime.now()\n",
    "    fechaNacimiento = datetime(yearNac, monthNac, dayNac)\n",
    "    edad = fechaActual - fechaNacimiento\n",
    "    \n",
    "    years = edad.days // 365\n",
    "    months = (edad.days % 365) // 30\n",
    "    days = (edad.days % 365) % 30\n",
    "    \n",
    "    return years, months, days\n",
    "\n",
    "diaNac = int(input(\"Ingrese el día de nacimiento:  \"))\n",
    "mesNac = int(input(\"Ingrese el mes de nacimiento: \"))\n",
    "yearNac = int(input(\"Ingrese el año de nacimiento: \"))\n",
    "\n",
    "edadYears, edadMeses, edadDias = calculaEdad(diaNac, mesNac, yearNac)\n",
    "\n",
    "# Mostrar la edad en años, meses y días\n",
    "print(f\"Edad: {edadYears} años, {edadMeses} meses, {edadDias} días.\")\n"
   ]
  },
  {
   "cell_type": "markdown",
   "id": "c4e7fa90-ccdb-46ee-82dc-7f8c94e1c189",
   "metadata": {},
   "source": [
    "4. Escriba una funcion en Python que dada una tupla de elementos (numeros o letras) esta se convierta a un string."
   ]
  },
  {
   "cell_type": "code",
   "execution_count": 46,
   "id": "7d6e94f2-e6c3-433b-95ad-a6678b8f17fa",
   "metadata": {
    "tags": []
   },
   "outputs": [
    {
     "name": "stdout",
     "output_type": "stream",
     "text": [
      "Tupla:  102040570\n"
     ]
    }
   ],
   "source": [
    "def convertirTupla(inputTuple):\n",
    "    result = \"\"\n",
    "\n",
    "    for element in inputTuple:\n",
    "        result += str(element)\n",
    "        \n",
    "    return result\n",
    "\n",
    "tupla = (10, 20, 40, 5, 70)\n",
    "tuplaString = convertirTupla(tupla)\n",
    "print(\"Tupla: \", tuplaString)\n"
   ]
  },
  {
   "cell_type": "markdown",
   "id": "5c56b2d5-6934-4e2e-92c2-a5e2fe1397f1",
   "metadata": {},
   "source": [
    "5. Cree un programa en Python que dada una lista de tuplas, elimine las tuplas que estan vacıas."
   ]
  },
  {
   "cell_type": "code",
   "execution_count": 51,
   "id": "6b1d0a16-8fd3-4e00-8b0c-5ff4a1ba0456",
   "metadata": {
    "tags": []
   },
   "outputs": [
    {
     "name": "stdout",
     "output_type": "stream",
     "text": [
      "[('X',), ('a', 'b'), ('a', 'b', 'c'), 'd']\n"
     ]
    }
   ],
   "source": [
    "def eliminarVacias(listaTuplas):\n",
    "    listaFiltrada = []\n",
    "\n",
    "    for tupla in listaTuplas:\n",
    "        if tupla:\n",
    "            listaFiltrada.append(tupla)\n",
    "\n",
    "    return listaFiltrada\n",
    "\n",
    "original = [(), (), ('X',), ('a', 'b'), ('a', 'b', 'c'), ('d')]\n",
    "listaFiltrada = eliminarVacias(original)\n",
    "print( listaFiltrada)\n"
   ]
  },
  {
   "cell_type": "markdown",
   "id": "29a0b1bb-0def-4a98-b920-5536f11fd675",
   "metadata": {},
   "source": [
    "6. . Cree una función en Python que dada una tupla de tuplas con números, produzca una tupla con el promedio de cada tupla individual, debe usar comprehensions para desarrollar este ejercicio."
   ]
  },
  {
   "cell_type": "code",
   "execution_count": 58,
   "id": "a522557b-8fea-44a7-b16b-8941c9ce9f87",
   "metadata": {
    "tags": []
   },
   "outputs": [],
   "source": [
    "import numpy as np"
   ]
  },
  {
   "cell_type": "code",
   "execution_count": 63,
   "id": "d90c79ae-4aaa-4a24-b06b-66d85945f600",
   "metadata": {
    "tags": []
   },
   "outputs": [
    {
     "name": "stdout",
     "output_type": "stream",
     "text": [
      "(10.5, 44.0, 58.0)\n"
     ]
    }
   ],
   "source": [
    "def calcularPromedio(tuplaDeTuplas):\n",
    "    matriz = np.array(tuplaDeTuplas)\n",
    "    promedios = np.mean(matriz, axis=1)\n",
    "    return tuple(promedios)\n",
    "\n",
    "tuplaDeTuplas = ((10, 10, 10, 12), (30, 45, 56, 45), (81, 80, 39, 32))\n",
    "resultado = calcularPromedio(tuplaDeTuplas)\n",
    "print(resultado)\n"
   ]
  },
  {
   "cell_type": "code",
   "execution_count": null,
   "id": "9f672aff-6fe0-4197-a0d0-1a695a6ba5f9",
   "metadata": {
    "tags": []
   },
   "outputs": [],
   "source": [
    "def mostrarFacturas(facturas):\n",
    "    print(\"Facturas pendientes:\")\n",
    "    for numeroFactura, costo in facturas.items():\n",
    "        print(f\"Número de factura: {numeroFactura}, Costo: {costo}\")\n",
    "def calcularTotal(facturas):\n",
    "    totalCobrado = sum(facturas.values())\n",
    "    totalPendiente = totalCobrado \n",
    "    return totalCobrado, totalPendiente\n",
    "\n",
    "facturas = {}\n",
    "\n",
    "while True:\n",
    "    print(\"\\n¿Escoja una opcion?\")\n",
    "    print(\"1. añadir nueva factura\")\n",
    "    print(\"2. Pagar factura\")\n",
    "    print(\"3. Terminar\")\n",
    "\n",
    "    opcion = input(\"Ingrese el número de la opción: \")\n",
    "\n",
    "    if opcion == '1':\n",
    "        numeroFactura = input(\"Ingrese el número de la nueva factura (4 dígitos): \")\n",
    "        costo = float(input(\"Ingrese el costo de la nueva factura: \"))\n",
    "        facturas[numeroFactura] = costo\n",
    "        mostrarFacturas(facturas)\n",
    "\n",
    "    elif opcion == '2':\n",
    "        numeroFactura = input(\"Ingrese el número de factura a pagar: \")\n",
    "        if numeroFactura in facturas:\n",
    "            facturaPagada = facturas.pop(numeroFactura)\n",
    "            print(f\"Factura {numeroFactura} pagada con éxito. Monto: {facturaPagada}\")\n",
    "            mostrarFacturas(facturas)\n",
    "        else:\n",
    "            print(\"La factura no existe.\")\n",
    "\n",
    "    elif opcion == '3':\n",
    "        print(\"Terminó.\")\n",
    "        break\n",
    "\n",
    "    else:\n",
    "        print(\"Opción no válida.\")\n",
    "\n",
    "    totalCobrado, totalPendiente = calcularTotal(facturas)\n",
    "    print(f\"\\nTotal cobrado hasta el momento: {totalCobrado}\")\n",
    "    print(f\"Total pendiente de cobro: {totalPendiente}\")\n"
   ]
  },
  {
   "cell_type": "code",
   "execution_count": null,
   "id": "cdbe2066-fe10-4561-9f45-a1b8fab14fd7",
   "metadata": {
    "tags": []
   },
   "outputs": [],
   "source": []
  },
  {
   "cell_type": "code",
   "execution_count": null,
   "id": "ec56f13b-292d-4466-8821-e1e9c3043238",
   "metadata": {},
   "outputs": [],
   "source": []
  },
  {
   "cell_type": "code",
   "execution_count": null,
   "id": "9a521d28-c275-4fad-8e5b-ad92e5d6c2f0",
   "metadata": {},
   "outputs": [],
   "source": []
  },
  {
   "cell_type": "code",
   "execution_count": null,
   "id": "25c3eda2-21b5-480a-bc7c-e18246c4ee1d",
   "metadata": {},
   "outputs": [],
   "source": []
  }
 ],
 "metadata": {
  "kernelspec": {
   "display_name": "Python 3 (ipykernel)",
   "language": "python",
   "name": "python3"
  },
  "language_info": {
   "codemirror_mode": {
    "name": "ipython",
    "version": 3
   },
   "file_extension": ".py",
   "mimetype": "text/x-python",
   "name": "python",
   "nbconvert_exporter": "python",
   "pygments_lexer": "ipython3",
   "version": "3.11.5"
  }
 },
 "nbformat": 4,
 "nbformat_minor": 5
}
